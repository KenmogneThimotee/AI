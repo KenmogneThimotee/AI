{
 "cells": [
  {
   "cell_type": "code",
   "execution_count": 1,
   "metadata": {},
   "outputs": [],
   "source": [
    "import socket \n",
    "import sys\n"
   ]
  },
  {
   "cell_type": "code",
   "execution_count": 2,
   "metadata": {},
   "outputs": [],
   "source": [
    "HOST = ''\n",
    "PORT = 12345\n",
    "\n",
    "ADDR = (HOST , PORT)"
   ]
  },
  {
   "cell_type": "code",
   "execution_count": 3,
   "metadata": {},
   "outputs": [],
   "source": [
    "def create_listen_socket(HOST , PORT) :\n",
    "    \"\"\"creating set up the socket to have a capability to listen a connnection\"\"\"\n",
    "    \n",
    "    sock = socket.socket(family=AF_INET , type=SOCK_STREAM)\n",
    "    sock.setsockop(socket.SQL_SOCKET , socket.SO_REUSEADDR , 1)\n",
    "    sock.bind((HOST,PORT))\n",
    "    sock.listen(500)\n",
    "    \n",
    "    return sock"
   ]
  },
  {
   "cell_type": "code",
   "execution_count": 4,
   "metadata": {},
   "outputs": [],
   "source": [
    "def recv(sock) :\n",
    "    \"\"\" Wait for data to arrive on the socket, then parse into\n",
    "    messages using b'\\0' as message delimiter \"\"\"\n",
    "    \n",
    "    data = bytearray()\n",
    "    msg = ''\n",
    "    \n",
    "    while not msg :\n",
    "        # Repeatedly read 4096 bytes off the socket, storing the bytes\n",
    "        # in data until we see a delimiter\n",
    "        \n",
    "        recvdata  = sock.recv(4096)\n",
    "        if not recvdata :\n",
    "            #socket has been closed permutanely \n",
    "            raise ConnectionError()\n",
    "        data += recvdata\n",
    "        \n",
    "        if b'\\0' in recvdata :\n",
    "            msg = data.rstrip(b'\\0')\n",
    "            msg = msg.decode('utf-8')\n",
    "        \n",
    "    return msg\n",
    "            \n",
    "        \n",
    "        "
   ]
  },
  {
   "cell_type": "code",
   "execution_count": 5,
   "metadata": {},
   "outputs": [],
   "source": [
    "def prep_msg(msg):\n",
    "    \"\"\" Prepare a string to be sent as a message \"\"\"\n",
    "    msg += '\\0'\n",
    "    return msg.encode('utf-8')"
   ]
  },
  {
   "cell_type": "code",
   "execution_count": 6,
   "metadata": {},
   "outputs": [],
   "source": [
    "def send_msg(sock , msg) :\n",
    "    msg = prep_msg(msg)\n",
    "    sock.sendall(msg)"
   ]
  },
  {
   "cell_type": "code",
   "execution_count": null,
   "metadata": {},
   "outputs": [],
   "source": [
    "\n",
    "\n"
   ]
  }
 ],
 "metadata": {
  "kernelspec": {
   "display_name": "Python 3",
   "language": "python",
   "name": "python3"
  },
  "language_info": {
   "codemirror_mode": {
    "name": "ipython",
    "version": 3
   },
   "file_extension": ".py",
   "mimetype": "text/x-python",
   "name": "python",
   "nbconvert_exporter": "python",
   "pygments_lexer": "ipython3",
   "version": "3.7.0"
  }
 },
 "nbformat": 4,
 "nbformat_minor": 2
}
