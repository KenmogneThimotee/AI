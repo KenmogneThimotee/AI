{
 "cells": [
  {
   "cell_type": "code",
   "execution_count": 2,
   "metadata": {},
   "outputs": [],
   "source": [
    "from socket import*\n",
    "import socket"
   ]
  },
  {
   "cell_type": "code",
   "execution_count": 4,
   "metadata": {},
   "outputs": [
    {
     "name": "stdout",
     "output_type": "stream",
     "text": [
      "socket is created\n"
     ]
    }
   ],
   "source": [
    "#create a tcp socket\n",
    "\n",
    "s = socket.socket(family=AF_INET , type=SOCK_STREAM , proto=0)\n",
    "print('socket is created')"
   ]
  },
  {
   "cell_type": "code",
   "execution_count": 16,
   "metadata": {},
   "outputs": [
    {
     "name": "stdout",
     "output_type": "stream",
     "text": [
      "socket created\n"
     ]
    },
    {
     "name": "stdin",
     "output_type": "stream",
     "text": [
      "please enter the ip addres of socket :  www.numpy.com\n",
      "please enter the port of socket :  80\n"
     ]
    },
    {
     "name": "stdout",
     "output_type": "stream",
     "text": [
      "failed to connect on port 80 and host www.numpy.com\n",
      "Reason [Errno 11001] getaddrinfo failed\n"
     ]
    },
    {
     "ename": "SystemExit",
     "evalue": "",
     "output_type": "error",
     "traceback": [
      "An exception has occurred, use %tb to see the full traceback.\n",
      "\u001b[1;31mSystemExit\u001b[0m\n"
     ]
    },
    {
     "name": "stderr",
     "output_type": "stream",
     "text": [
      "C:\\Users\\Ghomsi\\AppData\\Roaming\\Python\\Python37\\site-packages\\IPython\\core\\interactiveshell.py:3334: UserWarning: To exit: use 'exit', 'quit', or Ctrl-D.\n",
      "  warn(\"To exit: use 'exit', 'quit', or Ctrl-D.\", stacklevel=1)\n"
     ]
    }
   ],
   "source": [
    "import socket\n",
    "import sys\n",
    "\n",
    "\n",
    "if __name__ == '__main__' :\n",
    "    \n",
    "    try :\n",
    "        sock = socket.socket(family=AF_INET , type=SOCK_STREAM , proto=0)\n",
    "    except socket.error as err :\n",
    "        print('An error occuren  ')\n",
    "        print(err.name)\n",
    "        sys.exit()\n",
    "    \n",
    "    print('socket created')\n",
    "    \n",
    "    target_host = input('please enter the ip addres of socket : ')\n",
    "    target_port = input('please enter the port of socket : ')\n",
    "    \n",
    "    try :\n",
    "        sock.connect((target_host , int(target_port)))\n",
    "        print('socket connected on port %s and host %s'  %(target_port , target_host))\n",
    "        sock.shutdown(2)\n",
    "    except socket.error as err :\n",
    "        print('failed to connect on port %s and host %s'  %(target_port , target_host))\n",
    "        print('Reason %s'  %str(err))\n",
    "        sys.exit()\n"
   ]
  },
  {
   "cell_type": "code",
   "execution_count": 28,
   "metadata": {},
   "outputs": [
    {
     "ename": "gaierror",
     "evalue": "[Errno 11001] getaddrinfo failed",
     "output_type": "error",
     "traceback": [
      "\u001b[1;31m---------------------------------------------------------------------------\u001b[0m",
      "\u001b[1;31mgaierror\u001b[0m                                  Traceback (most recent call last)",
      "\u001b[1;32m<ipython-input-28-81b5708f62c4>\u001b[0m in \u001b[0;36m<module>\u001b[1;34m\u001b[0m\n\u001b[0;32m      9\u001b[0m \u001b[1;33m\u001b[0m\u001b[0m\n\u001b[0;32m     10\u001b[0m     \u001b[0mclient_socket\u001b[0m \u001b[1;33m=\u001b[0m \u001b[0msocket\u001b[0m\u001b[1;33m.\u001b[0m\u001b[0msocket\u001b[0m\u001b[1;33m(\u001b[0m\u001b[0mfamily\u001b[0m\u001b[1;33m=\u001b[0m\u001b[0mAF_INET\u001b[0m \u001b[1;33m,\u001b[0m \u001b[0mtype\u001b[0m\u001b[1;33m=\u001b[0m\u001b[0mSOCK_STREAM\u001b[0m \u001b[1;33m,\u001b[0m \u001b[0mproto\u001b[0m\u001b[1;33m=\u001b[0m\u001b[1;36m0\u001b[0m\u001b[1;33m)\u001b[0m\u001b[1;33m\u001b[0m\u001b[0m\n\u001b[1;32m---> 11\u001b[1;33m     \u001b[0mclient_socket\u001b[0m\u001b[1;33m.\u001b[0m\u001b[0mconnect\u001b[0m\u001b[1;33m(\u001b[0m\u001b[0mADDR\u001b[0m\u001b[1;33m)\u001b[0m\u001b[1;33m\u001b[0m\u001b[0m\n\u001b[0m\u001b[0;32m     12\u001b[0m \u001b[1;33m\u001b[0m\u001b[0m\n\u001b[0;32m     13\u001b[0m     \u001b[1;32mwhile\u001b[0m \u001b[1;32mTrue\u001b[0m \u001b[1;33m:\u001b[0m\u001b[1;33m\u001b[0m\u001b[0m\n",
      "\u001b[1;31mgaierror\u001b[0m: [Errno 11001] getaddrinfo failed"
     ]
    }
   ],
   "source": [
    "import socket\n",
    "\n",
    "HOST = 'localhost'   # or 127.0.0.1\n",
    "PORT = 4200\n",
    "BUFSZE = 4096 \n",
    "ADDR = (HOST,PORT)\n",
    "\n",
    "if __name__ == '__main__' :\n",
    "    \n",
    "    client_socket = socket.socket(family=AF_INET , type=SOCK_STREAM , proto=0)\n",
    "    client_socket.connect(ADDR)\n",
    "    \n",
    "    while True :\n",
    "        data = 'GET / HTTP/1.0\\r\\n\\r\\n'\n",
    "        \n",
    "        if not data :\n",
    "            break \n",
    "        client_socket.send(data.encode('utf-8'))\n",
    "        data = client_socket.recv(BUFSZE)\n",
    "        \n",
    "        if not data :\n",
    "            print(data.decode('utf-8'))\n",
    "    \n",
    "    client_socket.close()\n",
    "    "
   ]
  },
  {
   "cell_type": "code",
   "execution_count": null,
   "metadata": {},
   "outputs": [],
   "source": []
  },
  {
   "cell_type": "code",
   "execution_count": null,
   "metadata": {},
   "outputs": [],
   "source": []
  }
 ],
 "metadata": {
  "kernelspec": {
   "display_name": "Python 3",
   "language": "python",
   "name": "python3"
  },
  "language_info": {
   "codemirror_mode": {
    "name": "ipython",
    "version": 3
   },
   "file_extension": ".py",
   "mimetype": "text/x-python",
   "name": "python",
   "nbconvert_exporter": "python",
   "pygments_lexer": "ipython3",
   "version": "3.7.0"
  }
 },
 "nbformat": 4,
 "nbformat_minor": 4
}
